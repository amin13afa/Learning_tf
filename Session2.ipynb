{
 "cells": [
  {
   "cell_type": "markdown",
   "id": "0e38dc00",
   "metadata": {},
   "source": [
    "# Importing the libraries and the dataset"
   ]
  },
  {
   "cell_type": "code",
   "execution_count": 1,
   "id": "b6a8cab1",
   "metadata": {},
   "outputs": [],
   "source": [
    "import numpy as np \n",
    "import tensorflow as tf \n",
    "import datetime \n",
    "from tensorflow.keras.datasets import fashion_mnist"
   ]
  },
  {
   "cell_type": "markdown",
   "id": "2967ee19",
   "metadata": {},
   "source": [
    "# Data Preprocessing"
   ]
  },
  {
   "cell_type": "markdown",
   "id": "0929b053",
   "metadata": {},
   "source": [
    "### Loading the dataset"
   ]
  },
  {
   "cell_type": "code",
   "execution_count": 2,
   "id": "c474c832",
   "metadata": {},
   "outputs": [],
   "source": [
    "(X_train, y_train), (X_test, y_test) = fashion_mnist.load_data()"
   ]
  },
  {
   "cell_type": "code",
   "execution_count": 3,
   "id": "ec229c20",
   "metadata": {},
   "outputs": [
    {
     "data": {
      "text/plain": [
       "((60000, 28, 28), (10000, 28, 28))"
      ]
     },
     "execution_count": 3,
     "metadata": {},
     "output_type": "execute_result"
    }
   ],
   "source": [
    "X_train.shape, X_test.shape"
   ]
  },
  {
   "cell_type": "markdown",
   "id": "a3dce0f8",
   "metadata": {},
   "source": [
    "### Normalizing the images"
   ]
  },
  {
   "cell_type": "markdown",
   "id": "4049afd9",
   "metadata": {},
   "source": [
    "Normalizing the images\n",
    "We divide each pixel of the image in the training and test sets by the maximum number of pixels (255).\n",
    "\n",
    "In this way each pixel will be in the range [0, 1]. By normalizing images we make sure that our model (ANN) trains faster."
   ]
  },
  {
   "cell_type": "code",
   "execution_count": 4,
   "id": "e3a28b25",
   "metadata": {},
   "outputs": [],
   "source": [
    "X_train = X_train/255.0\n",
    "X_test = X_test/255.0"
   ]
  },
  {
   "cell_type": "markdown",
   "id": "60d74c5d",
   "metadata": {},
   "source": [
    "### Reshaping the dataset"
   ]
  },
  {
   "cell_type": "markdown",
   "id": "316838da",
   "metadata": {},
   "source": [
    "Since we are building a fully connected network, we reshape the training set and the test set to be into the vector format"
   ]
  },
  {
   "cell_type": "markdown",
   "id": "edef22b0",
   "metadata": {},
   "source": [
    "Since each image's dimension is 28x28,\n",
    "\n",
    "\n",
    "we reshape the full dataset to [-1 (all elements), height * width]\n"
   ]
  },
  {
   "cell_type": "code",
   "execution_count": 5,
   "id": "c6f25ae8",
   "metadata": {},
   "outputs": [
    {
     "data": {
      "text/plain": [
       "((60000, 784), (10000, 784))"
      ]
     },
     "execution_count": 5,
     "metadata": {},
     "output_type": "execute_result"
    }
   ],
   "source": [
    "X_train = X_train.reshape(-1,28*28)\n",
    "X_test = X_test.reshape(-1,28*28)\n",
    "X_train.shape , X_test.shape"
   ]
  },
  {
   "cell_type": "markdown",
   "id": "b7a520b4",
   "metadata": {},
   "source": [
    "# Building an Artificial Neural Network"
   ]
  },
  {
   "cell_type": "markdown",
   "id": "8c327149",
   "metadata": {},
   "source": [
    "### Defining the model"
   ]
  },
  {
   "cell_type": "markdown",
   "id": "3c3b50fd",
   "metadata": {},
   "source": [
    "Simply define an object of the Sequential model."
   ]
  },
  {
   "cell_type": "code",
   "execution_count": 6,
   "id": "447367c5",
   "metadata": {},
   "outputs": [],
   "source": [
    "model = tf.keras.models.Sequential()"
   ]
  },
  {
   "cell_type": "markdown",
   "id": "c2b49831",
   "metadata": {},
   "source": [
    "Adding a first fully-connected hidden layer"
   ]
  },
  {
   "cell_type": "markdown",
   "id": "35b88f79",
   "metadata": {},
   "source": [
    "Layer hyper-parameters:\n",
    "\n",
    "number of units/neurons: 128\n",
    "\n",
    "activation function: ReLU\n",
    "\n",
    "input_shape: (784, )"
   ]
  },
  {
   "cell_type": "code",
   "execution_count": null,
   "id": "e3959513",
   "metadata": {},
   "outputs": [],
   "source": []
  },
  {
   "cell_type": "code",
   "execution_count": null,
   "id": "63048d7c",
   "metadata": {},
   "outputs": [],
   "source": []
  },
  {
   "cell_type": "code",
   "execution_count": null,
   "id": "927ea6e7",
   "metadata": {},
   "outputs": [],
   "source": []
  }
 ],
 "metadata": {
  "kernelspec": {
   "display_name": "Python 3",
   "language": "python",
   "name": "python3"
  },
  "language_info": {
   "codemirror_mode": {
    "name": "ipython",
    "version": 3
   },
   "file_extension": ".py",
   "mimetype": "text/x-python",
   "name": "python",
   "nbconvert_exporter": "python",
   "pygments_lexer": "ipython3",
   "version": "3.8.8"
  }
 },
 "nbformat": 4,
 "nbformat_minor": 5
}
